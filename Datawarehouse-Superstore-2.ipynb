{
 "cells": [
  {
   "cell_type": "code",
   "execution_count": 1,
   "id": "0d5e4899",
   "metadata": {},
   "outputs": [],
   "source": [
    "import pandas as pd"
   ]
  },
  {
   "cell_type": "code",
   "execution_count": 2,
   "id": "eb1b01eb",
   "metadata": {},
   "outputs": [],
   "source": [
    "DimCst = pd.read_csv(\"D://DATASETS//DW//DimCst.csv\")"
   ]
  },
  {
   "cell_type": "code",
   "execution_count": 4,
   "id": "78b90d7c",
   "metadata": {},
   "outputs": [
    {
     "data": {
      "text/plain": [
       "(793, 4)"
      ]
     },
     "execution_count": 4,
     "metadata": {},
     "output_type": "execute_result"
    }
   ],
   "source": [
    "DimCst.shape"
   ]
  },
  {
   "cell_type": "code",
   "execution_count": 6,
   "id": "bf1c7b67",
   "metadata": {},
   "outputs": [
    {
     "data": {
      "text/plain": [
       "Index(['CustKey', 'Customer ID', 'Customer Name', 'Segment'], dtype='object')"
      ]
     },
     "execution_count": 6,
     "metadata": {},
     "output_type": "execute_result"
    }
   ],
   "source": [
    "DimCst.columns"
   ]
  },
  {
   "cell_type": "code",
   "execution_count": 7,
   "id": "e6ceebdd",
   "metadata": {},
   "outputs": [
    {
     "data": {
      "text/html": [
       "<div>\n",
       "<style scoped>\n",
       "    .dataframe tbody tr th:only-of-type {\n",
       "        vertical-align: middle;\n",
       "    }\n",
       "\n",
       "    .dataframe tbody tr th {\n",
       "        vertical-align: top;\n",
       "    }\n",
       "\n",
       "    .dataframe thead th {\n",
       "        text-align: right;\n",
       "    }\n",
       "</style>\n",
       "<table border=\"1\" class=\"dataframe\">\n",
       "  <thead>\n",
       "    <tr style=\"text-align: right;\">\n",
       "      <th></th>\n",
       "      <th>CustKey</th>\n",
       "      <th>Customer ID</th>\n",
       "      <th>Customer Name</th>\n",
       "      <th>Segment</th>\n",
       "    </tr>\n",
       "  </thead>\n",
       "  <tbody>\n",
       "    <tr>\n",
       "      <th>0</th>\n",
       "      <td>1</td>\n",
       "      <td>AA-10315</td>\n",
       "      <td>Alex Avila</td>\n",
       "      <td>Consumer</td>\n",
       "    </tr>\n",
       "    <tr>\n",
       "      <th>1</th>\n",
       "      <td>2</td>\n",
       "      <td>AA-10375</td>\n",
       "      <td>Allen Armold</td>\n",
       "      <td>Consumer</td>\n",
       "    </tr>\n",
       "    <tr>\n",
       "      <th>2</th>\n",
       "      <td>3</td>\n",
       "      <td>AA-10480</td>\n",
       "      <td>Andrew Allen</td>\n",
       "      <td>Consumer</td>\n",
       "    </tr>\n",
       "    <tr>\n",
       "      <th>3</th>\n",
       "      <td>4</td>\n",
       "      <td>AA-10645</td>\n",
       "      <td>Anna Andreadi</td>\n",
       "      <td>Consumer</td>\n",
       "    </tr>\n",
       "    <tr>\n",
       "      <th>4</th>\n",
       "      <td>5</td>\n",
       "      <td>AB-10015</td>\n",
       "      <td>Aaron Bergman</td>\n",
       "      <td>Consumer</td>\n",
       "    </tr>\n",
       "  </tbody>\n",
       "</table>\n",
       "</div>"
      ],
      "text/plain": [
       "   CustKey Customer ID  Customer Name   Segment\n",
       "0        1    AA-10315     Alex Avila  Consumer\n",
       "1        2    AA-10375   Allen Armold  Consumer\n",
       "2        3    AA-10480   Andrew Allen  Consumer\n",
       "3        4    AA-10645  Anna Andreadi  Consumer\n",
       "4        5    AB-10015  Aaron Bergman  Consumer"
      ]
     },
     "execution_count": 7,
     "metadata": {},
     "output_type": "execute_result"
    }
   ],
   "source": [
    "DimCst.head()"
   ]
  },
  {
   "cell_type": "code",
   "execution_count": 8,
   "id": "c455d8ef",
   "metadata": {},
   "outputs": [],
   "source": [
    "DimLoc = pd.read_csv(\"D://DATASETS//DW//DimLoc.csv\")"
   ]
  },
  {
   "cell_type": "code",
   "execution_count": 9,
   "id": "55651a3f",
   "metadata": {},
   "outputs": [
    {
     "data": {
      "text/plain": [
       "(604, 5)"
      ]
     },
     "execution_count": 9,
     "metadata": {},
     "output_type": "execute_result"
    }
   ],
   "source": [
    "DimLoc.shape"
   ]
  },
  {
   "cell_type": "code",
   "execution_count": 10,
   "id": "100a34a4",
   "metadata": {},
   "outputs": [
    {
     "data": {
      "text/plain": [
       "Index(['CityKey', 'City', 'State', 'Country', 'Region'], dtype='object')"
      ]
     },
     "execution_count": 10,
     "metadata": {},
     "output_type": "execute_result"
    }
   ],
   "source": [
    "DimLoc.columns"
   ]
  },
  {
   "cell_type": "code",
   "execution_count": 11,
   "id": "3fc38fc9",
   "metadata": {},
   "outputs": [
    {
     "data": {
      "text/html": [
       "<div>\n",
       "<style scoped>\n",
       "    .dataframe tbody tr th:only-of-type {\n",
       "        vertical-align: middle;\n",
       "    }\n",
       "\n",
       "    .dataframe tbody tr th {\n",
       "        vertical-align: top;\n",
       "    }\n",
       "\n",
       "    .dataframe thead th {\n",
       "        text-align: right;\n",
       "    }\n",
       "</style>\n",
       "<table border=\"1\" class=\"dataframe\">\n",
       "  <thead>\n",
       "    <tr style=\"text-align: right;\">\n",
       "      <th></th>\n",
       "      <th>CityKey</th>\n",
       "      <th>City</th>\n",
       "      <th>State</th>\n",
       "      <th>Country</th>\n",
       "      <th>Region</th>\n",
       "    </tr>\n",
       "  </thead>\n",
       "  <tbody>\n",
       "    <tr>\n",
       "      <th>0</th>\n",
       "      <td>1</td>\n",
       "      <td>Aberdeen</td>\n",
       "      <td>South Dakota</td>\n",
       "      <td>United States</td>\n",
       "      <td>Central</td>\n",
       "    </tr>\n",
       "    <tr>\n",
       "      <th>1</th>\n",
       "      <td>2</td>\n",
       "      <td>Abilene</td>\n",
       "      <td>Texas</td>\n",
       "      <td>United States</td>\n",
       "      <td>Central</td>\n",
       "    </tr>\n",
       "    <tr>\n",
       "      <th>2</th>\n",
       "      <td>3</td>\n",
       "      <td>Akron</td>\n",
       "      <td>Ohio</td>\n",
       "      <td>United States</td>\n",
       "      <td>East</td>\n",
       "    </tr>\n",
       "    <tr>\n",
       "      <th>3</th>\n",
       "      <td>4</td>\n",
       "      <td>Albuquerque</td>\n",
       "      <td>New Mexico</td>\n",
       "      <td>United States</td>\n",
       "      <td>West</td>\n",
       "    </tr>\n",
       "    <tr>\n",
       "      <th>4</th>\n",
       "      <td>5</td>\n",
       "      <td>Alexandria</td>\n",
       "      <td>Virginia</td>\n",
       "      <td>United States</td>\n",
       "      <td>South</td>\n",
       "    </tr>\n",
       "  </tbody>\n",
       "</table>\n",
       "</div>"
      ],
      "text/plain": [
       "   CityKey         City         State        Country   Region\n",
       "0        1     Aberdeen  South Dakota  United States  Central\n",
       "1        2      Abilene         Texas  United States  Central\n",
       "2        3        Akron          Ohio  United States     East\n",
       "3        4  Albuquerque    New Mexico  United States     West\n",
       "4        5   Alexandria      Virginia  United States    South"
      ]
     },
     "execution_count": 11,
     "metadata": {},
     "output_type": "execute_result"
    }
   ],
   "source": [
    "DimLoc.head()"
   ]
  },
  {
   "cell_type": "code",
   "execution_count": 12,
   "id": "4ac773e4",
   "metadata": {},
   "outputs": [],
   "source": [
    "DimPrd = pd.read_csv(\"D://DATASETS//DW//DimPrd.csv\")"
   ]
  },
  {
   "cell_type": "code",
   "execution_count": 13,
   "id": "10c32bbd",
   "metadata": {},
   "outputs": [
    {
     "data": {
      "text/plain": [
       "(1894, 4)"
      ]
     },
     "execution_count": 13,
     "metadata": {},
     "output_type": "execute_result"
    }
   ],
   "source": [
    "DimPrd.shape"
   ]
  },
  {
   "cell_type": "code",
   "execution_count": 14,
   "id": "529d9eab",
   "metadata": {},
   "outputs": [
    {
     "data": {
      "text/plain": [
       "Index(['Product ID', 'Product Name', 'Sub-Category', 'Category'], dtype='object')"
      ]
     },
     "execution_count": 14,
     "metadata": {},
     "output_type": "execute_result"
    }
   ],
   "source": [
    "DimPrd.columns"
   ]
  },
  {
   "cell_type": "code",
   "execution_count": 15,
   "id": "47f898fd",
   "metadata": {},
   "outputs": [
    {
     "data": {
      "text/html": [
       "<div>\n",
       "<style scoped>\n",
       "    .dataframe tbody tr th:only-of-type {\n",
       "        vertical-align: middle;\n",
       "    }\n",
       "\n",
       "    .dataframe tbody tr th {\n",
       "        vertical-align: top;\n",
       "    }\n",
       "\n",
       "    .dataframe thead th {\n",
       "        text-align: right;\n",
       "    }\n",
       "</style>\n",
       "<table border=\"1\" class=\"dataframe\">\n",
       "  <thead>\n",
       "    <tr style=\"text-align: right;\">\n",
       "      <th></th>\n",
       "      <th>Product ID</th>\n",
       "      <th>Product Name</th>\n",
       "      <th>Sub-Category</th>\n",
       "      <th>Category</th>\n",
       "    </tr>\n",
       "  </thead>\n",
       "  <tbody>\n",
       "    <tr>\n",
       "      <th>0</th>\n",
       "      <td>FUR-BO-10000112</td>\n",
       "      <td>Bush Birmingham Collection Bookcase, Dark Cherry</td>\n",
       "      <td>Bookcases</td>\n",
       "      <td>Furniture</td>\n",
       "    </tr>\n",
       "    <tr>\n",
       "      <th>1</th>\n",
       "      <td>FUR-BO-10000330</td>\n",
       "      <td>Sauder Camden County Barrister Bookcase, Plank...</td>\n",
       "      <td>Bookcases</td>\n",
       "      <td>Furniture</td>\n",
       "    </tr>\n",
       "    <tr>\n",
       "      <th>2</th>\n",
       "      <td>FUR-BO-10000362</td>\n",
       "      <td>Sauder Inglewood Library Bookcases</td>\n",
       "      <td>Bookcases</td>\n",
       "      <td>Furniture</td>\n",
       "    </tr>\n",
       "    <tr>\n",
       "      <th>3</th>\n",
       "      <td>FUR-BO-10000468</td>\n",
       "      <td>O'Sullivan 2-Shelf Heavy-Duty Bookcases</td>\n",
       "      <td>Bookcases</td>\n",
       "      <td>Furniture</td>\n",
       "    </tr>\n",
       "    <tr>\n",
       "      <th>4</th>\n",
       "      <td>FUR-BO-10000711</td>\n",
       "      <td>Hon Metal Bookcases, Gray</td>\n",
       "      <td>Bookcases</td>\n",
       "      <td>Furniture</td>\n",
       "    </tr>\n",
       "  </tbody>\n",
       "</table>\n",
       "</div>"
      ],
      "text/plain": [
       "        Product ID                                       Product Name  \\\n",
       "0  FUR-BO-10000112   Bush Birmingham Collection Bookcase, Dark Cherry   \n",
       "1  FUR-BO-10000330  Sauder Camden County Barrister Bookcase, Plank...   \n",
       "2  FUR-BO-10000362                 Sauder Inglewood Library Bookcases   \n",
       "3  FUR-BO-10000468            O'Sullivan 2-Shelf Heavy-Duty Bookcases   \n",
       "4  FUR-BO-10000711                          Hon Metal Bookcases, Gray   \n",
       "\n",
       "  Sub-Category   Category  \n",
       "0    Bookcases  Furniture  \n",
       "1    Bookcases  Furniture  \n",
       "2    Bookcases  Furniture  \n",
       "3    Bookcases  Furniture  \n",
       "4    Bookcases  Furniture  "
      ]
     },
     "execution_count": 15,
     "metadata": {},
     "output_type": "execute_result"
    }
   ],
   "source": [
    "DimPrd.head()"
   ]
  },
  {
   "cell_type": "code",
   "execution_count": 16,
   "id": "d440c7af",
   "metadata": {},
   "outputs": [],
   "source": [
    "DimDt = pd.read_csv(\"D://DATASETS//DW//DimDt.csv\")"
   ]
  },
  {
   "cell_type": "code",
   "execution_count": 17,
   "id": "58fc4b72",
   "metadata": {},
   "outputs": [
    {
     "data": {
      "text/plain": [
       "(1237, 6)"
      ]
     },
     "execution_count": 17,
     "metadata": {},
     "output_type": "execute_result"
    }
   ],
   "source": [
    "DimDt.shape"
   ]
  },
  {
   "cell_type": "code",
   "execution_count": 18,
   "id": "63db49bf",
   "metadata": {},
   "outputs": [
    {
     "data": {
      "text/plain": [
       "Index(['Order Date', 'Day', 'Week', 'Month', 'Quarter', 'Year'], dtype='object')"
      ]
     },
     "execution_count": 18,
     "metadata": {},
     "output_type": "execute_result"
    }
   ],
   "source": [
    "DimDt.columns"
   ]
  },
  {
   "cell_type": "code",
   "execution_count": 19,
   "id": "f433a08f",
   "metadata": {},
   "outputs": [
    {
     "data": {
      "text/html": [
       "<div>\n",
       "<style scoped>\n",
       "    .dataframe tbody tr th:only-of-type {\n",
       "        vertical-align: middle;\n",
       "    }\n",
       "\n",
       "    .dataframe tbody tr th {\n",
       "        vertical-align: top;\n",
       "    }\n",
       "\n",
       "    .dataframe thead th {\n",
       "        text-align: right;\n",
       "    }\n",
       "</style>\n",
       "<table border=\"1\" class=\"dataframe\">\n",
       "  <thead>\n",
       "    <tr style=\"text-align: right;\">\n",
       "      <th></th>\n",
       "      <th>Order Date</th>\n",
       "      <th>Day</th>\n",
       "      <th>Week</th>\n",
       "      <th>Month</th>\n",
       "      <th>Quarter</th>\n",
       "      <th>Year</th>\n",
       "    </tr>\n",
       "  </thead>\n",
       "  <tbody>\n",
       "    <tr>\n",
       "      <th>0</th>\n",
       "      <td>2014-01-03</td>\n",
       "      <td>3</td>\n",
       "      <td>1</td>\n",
       "      <td>1</td>\n",
       "      <td>1</td>\n",
       "      <td>2014</td>\n",
       "    </tr>\n",
       "    <tr>\n",
       "      <th>1</th>\n",
       "      <td>2014-01-04</td>\n",
       "      <td>4</td>\n",
       "      <td>1</td>\n",
       "      <td>1</td>\n",
       "      <td>1</td>\n",
       "      <td>2014</td>\n",
       "    </tr>\n",
       "    <tr>\n",
       "      <th>2</th>\n",
       "      <td>2014-01-05</td>\n",
       "      <td>5</td>\n",
       "      <td>1</td>\n",
       "      <td>1</td>\n",
       "      <td>1</td>\n",
       "      <td>2014</td>\n",
       "    </tr>\n",
       "    <tr>\n",
       "      <th>3</th>\n",
       "      <td>2014-01-06</td>\n",
       "      <td>6</td>\n",
       "      <td>2</td>\n",
       "      <td>1</td>\n",
       "      <td>1</td>\n",
       "      <td>2014</td>\n",
       "    </tr>\n",
       "    <tr>\n",
       "      <th>4</th>\n",
       "      <td>2014-01-07</td>\n",
       "      <td>7</td>\n",
       "      <td>2</td>\n",
       "      <td>1</td>\n",
       "      <td>1</td>\n",
       "      <td>2014</td>\n",
       "    </tr>\n",
       "  </tbody>\n",
       "</table>\n",
       "</div>"
      ],
      "text/plain": [
       "   Order Date  Day  Week  Month  Quarter  Year\n",
       "0  2014-01-03    3     1      1        1  2014\n",
       "1  2014-01-04    4     1      1        1  2014\n",
       "2  2014-01-05    5     1      1        1  2014\n",
       "3  2014-01-06    6     2      1        1  2014\n",
       "4  2014-01-07    7     2      1        1  2014"
      ]
     },
     "execution_count": 19,
     "metadata": {},
     "output_type": "execute_result"
    }
   ],
   "source": [
    "DimDt.head()"
   ]
  },
  {
   "cell_type": "code",
   "execution_count": 20,
   "id": "29b27868",
   "metadata": {},
   "outputs": [],
   "source": [
    "SalesFct = pd.read_csv(\"D://DATASETS//DW//SalesFct.csv\")"
   ]
  },
  {
   "cell_type": "code",
   "execution_count": 21,
   "id": "e0791f9a",
   "metadata": {},
   "outputs": [
    {
     "data": {
      "text/plain": [
       "(9986, 8)"
      ]
     },
     "execution_count": 21,
     "metadata": {},
     "output_type": "execute_result"
    }
   ],
   "source": [
    "SalesFct.shape"
   ]
  },
  {
   "cell_type": "code",
   "execution_count": 22,
   "id": "cb715c0c",
   "metadata": {},
   "outputs": [
    {
     "data": {
      "text/plain": [
       "Index(['Order Date', 'City', 'Product ID', 'SalesQtyTotal', 'SalesAmtTotal',\n",
       "       'DisAmtTotal', 'ProfAmtTotal', 'CostAmt'],\n",
       "      dtype='object')"
      ]
     },
     "execution_count": 22,
     "metadata": {},
     "output_type": "execute_result"
    }
   ],
   "source": [
    "SalesFct.columns"
   ]
  },
  {
   "cell_type": "code",
   "execution_count": 23,
   "id": "75da2813",
   "metadata": {},
   "outputs": [
    {
     "data": {
      "text/html": [
       "<div>\n",
       "<style scoped>\n",
       "    .dataframe tbody tr th:only-of-type {\n",
       "        vertical-align: middle;\n",
       "    }\n",
       "\n",
       "    .dataframe tbody tr th {\n",
       "        vertical-align: top;\n",
       "    }\n",
       "\n",
       "    .dataframe thead th {\n",
       "        text-align: right;\n",
       "    }\n",
       "</style>\n",
       "<table border=\"1\" class=\"dataframe\">\n",
       "  <thead>\n",
       "    <tr style=\"text-align: right;\">\n",
       "      <th></th>\n",
       "      <th>Order Date</th>\n",
       "      <th>City</th>\n",
       "      <th>Product ID</th>\n",
       "      <th>SalesQtyTotal</th>\n",
       "      <th>SalesAmtTotal</th>\n",
       "      <th>DisAmtTotal</th>\n",
       "      <th>ProfAmtTotal</th>\n",
       "      <th>CostAmt</th>\n",
       "    </tr>\n",
       "  </thead>\n",
       "  <tbody>\n",
       "    <tr>\n",
       "      <th>0</th>\n",
       "      <td>2014-01-03</td>\n",
       "      <td>Houston</td>\n",
       "      <td>OFF-PA-10000174</td>\n",
       "      <td>2</td>\n",
       "      <td>16.448</td>\n",
       "      <td>0.2</td>\n",
       "      <td>5.5512</td>\n",
       "      <td>10.8968</td>\n",
       "    </tr>\n",
       "    <tr>\n",
       "      <th>1</th>\n",
       "      <td>2014-01-04</td>\n",
       "      <td>Naperville</td>\n",
       "      <td>OFF-BI-10004094</td>\n",
       "      <td>2</td>\n",
       "      <td>3.540</td>\n",
       "      <td>0.8</td>\n",
       "      <td>-5.4870</td>\n",
       "      <td>9.0270</td>\n",
       "    </tr>\n",
       "    <tr>\n",
       "      <th>2</th>\n",
       "      <td>2014-01-04</td>\n",
       "      <td>Naperville</td>\n",
       "      <td>OFF-LA-10003223</td>\n",
       "      <td>3</td>\n",
       "      <td>11.784</td>\n",
       "      <td>0.2</td>\n",
       "      <td>4.2717</td>\n",
       "      <td>7.5123</td>\n",
       "    </tr>\n",
       "    <tr>\n",
       "      <th>3</th>\n",
       "      <td>2014-01-04</td>\n",
       "      <td>Naperville</td>\n",
       "      <td>OFF-ST-10002743</td>\n",
       "      <td>3</td>\n",
       "      <td>272.736</td>\n",
       "      <td>0.2</td>\n",
       "      <td>-64.7748</td>\n",
       "      <td>337.5108</td>\n",
       "    </tr>\n",
       "    <tr>\n",
       "      <th>4</th>\n",
       "      <td>2014-01-05</td>\n",
       "      <td>Philadelphia</td>\n",
       "      <td>OFF-AR-10003478</td>\n",
       "      <td>3</td>\n",
       "      <td>19.536</td>\n",
       "      <td>0.2</td>\n",
       "      <td>4.8840</td>\n",
       "      <td>14.6520</td>\n",
       "    </tr>\n",
       "  </tbody>\n",
       "</table>\n",
       "</div>"
      ],
      "text/plain": [
       "   Order Date          City       Product ID  SalesQtyTotal  SalesAmtTotal  \\\n",
       "0  2014-01-03       Houston  OFF-PA-10000174              2         16.448   \n",
       "1  2014-01-04    Naperville  OFF-BI-10004094              2          3.540   \n",
       "2  2014-01-04    Naperville  OFF-LA-10003223              3         11.784   \n",
       "3  2014-01-04    Naperville  OFF-ST-10002743              3        272.736   \n",
       "4  2014-01-05  Philadelphia  OFF-AR-10003478              3         19.536   \n",
       "\n",
       "   DisAmtTotal  ProfAmtTotal   CostAmt  \n",
       "0          0.2        5.5512   10.8968  \n",
       "1          0.8       -5.4870    9.0270  \n",
       "2          0.2        4.2717    7.5123  \n",
       "3          0.2      -64.7748  337.5108  \n",
       "4          0.2        4.8840   14.6520  "
      ]
     },
     "execution_count": 23,
     "metadata": {},
     "output_type": "execute_result"
    }
   ],
   "source": [
    "SalesFct.head()"
   ]
  },
  {
   "cell_type": "code",
   "execution_count": 24,
   "id": "c068a4c5",
   "metadata": {},
   "outputs": [],
   "source": [
    "SaleCstsFct = pd.read_csv(\"D://DATASETS//DW//SaleCstsFct.csv\")"
   ]
  },
  {
   "cell_type": "code",
   "execution_count": 25,
   "id": "f70dd54b",
   "metadata": {},
   "outputs": [
    {
     "data": {
      "text/plain": [
       "(9986, 8)"
      ]
     },
     "execution_count": 25,
     "metadata": {},
     "output_type": "execute_result"
    }
   ],
   "source": [
    "SaleCstsFct.shape"
   ]
  },
  {
   "cell_type": "code",
   "execution_count": 26,
   "id": "5ab652bc",
   "metadata": {},
   "outputs": [
    {
     "data": {
      "text/plain": [
       "Index(['Order Date', 'Customer ID', 'City', 'Product ID', 'SalesQtyTotal',\n",
       "       'SalesAmtTotal', 'DisAmtTotal', 'ProfAmtTotal'],\n",
       "      dtype='object')"
      ]
     },
     "execution_count": 26,
     "metadata": {},
     "output_type": "execute_result"
    }
   ],
   "source": [
    "SaleCstsFct.columns"
   ]
  },
  {
   "cell_type": "code",
   "execution_count": 27,
   "id": "58f9b149",
   "metadata": {},
   "outputs": [
    {
     "data": {
      "text/html": [
       "<div>\n",
       "<style scoped>\n",
       "    .dataframe tbody tr th:only-of-type {\n",
       "        vertical-align: middle;\n",
       "    }\n",
       "\n",
       "    .dataframe tbody tr th {\n",
       "        vertical-align: top;\n",
       "    }\n",
       "\n",
       "    .dataframe thead th {\n",
       "        text-align: right;\n",
       "    }\n",
       "</style>\n",
       "<table border=\"1\" class=\"dataframe\">\n",
       "  <thead>\n",
       "    <tr style=\"text-align: right;\">\n",
       "      <th></th>\n",
       "      <th>Order Date</th>\n",
       "      <th>Customer ID</th>\n",
       "      <th>City</th>\n",
       "      <th>Product ID</th>\n",
       "      <th>SalesQtyTotal</th>\n",
       "      <th>SalesAmtTotal</th>\n",
       "      <th>DisAmtTotal</th>\n",
       "      <th>ProfAmtTotal</th>\n",
       "    </tr>\n",
       "  </thead>\n",
       "  <tbody>\n",
       "    <tr>\n",
       "      <th>0</th>\n",
       "      <td>2014-01-03</td>\n",
       "      <td>DP-13000</td>\n",
       "      <td>Houston</td>\n",
       "      <td>OFF-PA-10000174</td>\n",
       "      <td>2</td>\n",
       "      <td>16.448</td>\n",
       "      <td>0.2</td>\n",
       "      <td>5.5512</td>\n",
       "    </tr>\n",
       "    <tr>\n",
       "      <th>1</th>\n",
       "      <td>2014-01-04</td>\n",
       "      <td>PO-19195</td>\n",
       "      <td>Naperville</td>\n",
       "      <td>OFF-BI-10004094</td>\n",
       "      <td>2</td>\n",
       "      <td>3.540</td>\n",
       "      <td>0.8</td>\n",
       "      <td>-5.4870</td>\n",
       "    </tr>\n",
       "    <tr>\n",
       "      <th>2</th>\n",
       "      <td>2014-01-04</td>\n",
       "      <td>PO-19195</td>\n",
       "      <td>Naperville</td>\n",
       "      <td>OFF-LA-10003223</td>\n",
       "      <td>3</td>\n",
       "      <td>11.784</td>\n",
       "      <td>0.2</td>\n",
       "      <td>4.2717</td>\n",
       "    </tr>\n",
       "    <tr>\n",
       "      <th>3</th>\n",
       "      <td>2014-01-04</td>\n",
       "      <td>PO-19195</td>\n",
       "      <td>Naperville</td>\n",
       "      <td>OFF-ST-10002743</td>\n",
       "      <td>3</td>\n",
       "      <td>272.736</td>\n",
       "      <td>0.2</td>\n",
       "      <td>-64.7748</td>\n",
       "    </tr>\n",
       "    <tr>\n",
       "      <th>4</th>\n",
       "      <td>2014-01-05</td>\n",
       "      <td>MB-18085</td>\n",
       "      <td>Philadelphia</td>\n",
       "      <td>OFF-AR-10003478</td>\n",
       "      <td>3</td>\n",
       "      <td>19.536</td>\n",
       "      <td>0.2</td>\n",
       "      <td>4.8840</td>\n",
       "    </tr>\n",
       "  </tbody>\n",
       "</table>\n",
       "</div>"
      ],
      "text/plain": [
       "   Order Date Customer ID          City       Product ID  SalesQtyTotal  \\\n",
       "0  2014-01-03    DP-13000       Houston  OFF-PA-10000174              2   \n",
       "1  2014-01-04    PO-19195    Naperville  OFF-BI-10004094              2   \n",
       "2  2014-01-04    PO-19195    Naperville  OFF-LA-10003223              3   \n",
       "3  2014-01-04    PO-19195    Naperville  OFF-ST-10002743              3   \n",
       "4  2014-01-05    MB-18085  Philadelphia  OFF-AR-10003478              3   \n",
       "\n",
       "   SalesAmtTotal  DisAmtTotal  ProfAmtTotal  \n",
       "0         16.448          0.2        5.5512  \n",
       "1          3.540          0.8       -5.4870  \n",
       "2         11.784          0.2        4.2717  \n",
       "3        272.736          0.2      -64.7748  \n",
       "4         19.536          0.2        4.8840  "
      ]
     },
     "execution_count": 27,
     "metadata": {},
     "output_type": "execute_result"
    }
   ],
   "source": [
    "SaleCstsFct.head()"
   ]
  },
  {
   "cell_type": "code",
   "execution_count": 28,
   "id": "e16e9d3f",
   "metadata": {},
   "outputs": [
    {
     "data": {
      "text/html": [
       "<div>\n",
       "<style scoped>\n",
       "    .dataframe tbody tr th:only-of-type {\n",
       "        vertical-align: middle;\n",
       "    }\n",
       "\n",
       "    .dataframe tbody tr th {\n",
       "        vertical-align: top;\n",
       "    }\n",
       "\n",
       "    .dataframe thead th {\n",
       "        text-align: right;\n",
       "    }\n",
       "</style>\n",
       "<table border=\"1\" class=\"dataframe\">\n",
       "  <thead>\n",
       "    <tr style=\"text-align: right;\">\n",
       "      <th></th>\n",
       "      <th>TotalQty</th>\n",
       "    </tr>\n",
       "    <tr>\n",
       "      <th>Product ID</th>\n",
       "      <th></th>\n",
       "    </tr>\n",
       "  </thead>\n",
       "  <tbody>\n",
       "    <tr>\n",
       "      <th>FUR-BO-10000112</th>\n",
       "      <td>9</td>\n",
       "    </tr>\n",
       "    <tr>\n",
       "      <th>FUR-BO-10000330</th>\n",
       "      <td>10</td>\n",
       "    </tr>\n",
       "    <tr>\n",
       "      <th>FUR-BO-10000362</th>\n",
       "      <td>14</td>\n",
       "    </tr>\n",
       "    <tr>\n",
       "      <th>FUR-BO-10000468</th>\n",
       "      <td>21</td>\n",
       "    </tr>\n",
       "    <tr>\n",
       "      <th>FUR-BO-10000711</th>\n",
       "      <td>12</td>\n",
       "    </tr>\n",
       "  </tbody>\n",
       "</table>\n",
       "</div>"
      ],
      "text/plain": [
       "                 TotalQty\n",
       "Product ID               \n",
       "FUR-BO-10000112         9\n",
       "FUR-BO-10000330        10\n",
       "FUR-BO-10000362        14\n",
       "FUR-BO-10000468        21\n",
       "FUR-BO-10000711        12"
      ]
     },
     "execution_count": 28,
     "metadata": {},
     "output_type": "execute_result"
    }
   ],
   "source": [
    "# 1 WAY AGGREGATION\n",
    "top3 = SalesFct.groupby('Product ID').agg(TotalQty = ('SalesQtyTotal', 'sum'))\n",
    "top3.head()"
   ]
  },
  {
   "cell_type": "code",
   "execution_count": 29,
   "id": "df457243",
   "metadata": {},
   "outputs": [
    {
     "data": {
      "text/html": [
       "<div>\n",
       "<style scoped>\n",
       "    .dataframe tbody tr th:only-of-type {\n",
       "        vertical-align: middle;\n",
       "    }\n",
       "\n",
       "    .dataframe tbody tr th {\n",
       "        vertical-align: top;\n",
       "    }\n",
       "\n",
       "    .dataframe thead th {\n",
       "        text-align: right;\n",
       "    }\n",
       "</style>\n",
       "<table border=\"1\" class=\"dataframe\">\n",
       "  <thead>\n",
       "    <tr style=\"text-align: right;\">\n",
       "      <th></th>\n",
       "      <th>TotalQty</th>\n",
       "    </tr>\n",
       "    <tr>\n",
       "      <th>Product ID</th>\n",
       "      <th></th>\n",
       "    </tr>\n",
       "  </thead>\n",
       "  <tbody>\n",
       "    <tr>\n",
       "      <th>TEC-AC-10003832</th>\n",
       "      <td>75</td>\n",
       "    </tr>\n",
       "    <tr>\n",
       "      <th>OFF-PA-10001970</th>\n",
       "      <td>70</td>\n",
       "    </tr>\n",
       "    <tr>\n",
       "      <th>OFF-BI-10001524</th>\n",
       "      <td>67</td>\n",
       "    </tr>\n",
       "  </tbody>\n",
       "</table>\n",
       "</div>"
      ],
      "text/plain": [
       "                 TotalQty\n",
       "Product ID               \n",
       "TEC-AC-10003832        75\n",
       "OFF-PA-10001970        70\n",
       "OFF-BI-10001524        67"
      ]
     },
     "execution_count": 29,
     "metadata": {},
     "output_type": "execute_result"
    }
   ],
   "source": [
    "top3 = top3.nlargest(3, ['TotalQty'])\n",
    "top3"
   ]
  },
  {
   "cell_type": "code",
   "execution_count": 30,
   "id": "17824204",
   "metadata": {},
   "outputs": [
    {
     "data": {
      "text/html": [
       "<div>\n",
       "<style scoped>\n",
       "    .dataframe tbody tr th:only-of-type {\n",
       "        vertical-align: middle;\n",
       "    }\n",
       "\n",
       "    .dataframe tbody tr th {\n",
       "        vertical-align: top;\n",
       "    }\n",
       "\n",
       "    .dataframe thead th {\n",
       "        text-align: right;\n",
       "    }\n",
       "</style>\n",
       "<table border=\"1\" class=\"dataframe\">\n",
       "  <thead>\n",
       "    <tr style=\"text-align: right;\">\n",
       "      <th></th>\n",
       "      <th>Product ID</th>\n",
       "      <th>TotalQty</th>\n",
       "      <th>Product Name</th>\n",
       "      <th>Sub-Category</th>\n",
       "      <th>Category</th>\n",
       "    </tr>\n",
       "  </thead>\n",
       "  <tbody>\n",
       "    <tr>\n",
       "      <th>0</th>\n",
       "      <td>TEC-AC-10003832</td>\n",
       "      <td>75</td>\n",
       "      <td>Logitech P710e Mobile Speakerphone</td>\n",
       "      <td>Accessories</td>\n",
       "      <td>Technology</td>\n",
       "    </tr>\n",
       "    <tr>\n",
       "      <th>1</th>\n",
       "      <td>TEC-AC-10003832</td>\n",
       "      <td>75</td>\n",
       "      <td>Imation 16GB Mini TravelDrive USB 2.0 Flash Drive</td>\n",
       "      <td>Accessories</td>\n",
       "      <td>Technology</td>\n",
       "    </tr>\n",
       "    <tr>\n",
       "      <th>2</th>\n",
       "      <td>OFF-PA-10001970</td>\n",
       "      <td>70</td>\n",
       "      <td>Xerox 1908</td>\n",
       "      <td>Paper</td>\n",
       "      <td>Office Supplies</td>\n",
       "    </tr>\n",
       "    <tr>\n",
       "      <th>3</th>\n",
       "      <td>OFF-PA-10001970</td>\n",
       "      <td>70</td>\n",
       "      <td>Xerox 1881</td>\n",
       "      <td>Paper</td>\n",
       "      <td>Office Supplies</td>\n",
       "    </tr>\n",
       "    <tr>\n",
       "      <th>4</th>\n",
       "      <td>OFF-BI-10001524</td>\n",
       "      <td>67</td>\n",
       "      <td>GBC Premium Transparent Covers with Diagonal L...</td>\n",
       "      <td>Binders</td>\n",
       "      <td>Office Supplies</td>\n",
       "    </tr>\n",
       "  </tbody>\n",
       "</table>\n",
       "</div>"
      ],
      "text/plain": [
       "        Product ID  TotalQty  \\\n",
       "0  TEC-AC-10003832        75   \n",
       "1  TEC-AC-10003832        75   \n",
       "2  OFF-PA-10001970        70   \n",
       "3  OFF-PA-10001970        70   \n",
       "4  OFF-BI-10001524        67   \n",
       "\n",
       "                                        Product Name Sub-Category  \\\n",
       "0                 Logitech P710e Mobile Speakerphone  Accessories   \n",
       "1  Imation 16GB Mini TravelDrive USB 2.0 Flash Drive  Accessories   \n",
       "2                                         Xerox 1908        Paper   \n",
       "3                                         Xerox 1881        Paper   \n",
       "4  GBC Premium Transparent Covers with Diagonal L...      Binders   \n",
       "\n",
       "          Category  \n",
       "0       Technology  \n",
       "1       Technology  \n",
       "2  Office Supplies  \n",
       "3  Office Supplies  \n",
       "4  Office Supplies  "
      ]
     },
     "execution_count": 30,
     "metadata": {},
     "output_type": "execute_result"
    }
   ],
   "source": [
    "top3 = pd.merge(top3, DimPrd, on='Product ID')\n",
    "top3"
   ]
  },
  {
   "cell_type": "code",
   "execution_count": 31,
   "id": "22907453",
   "metadata": {},
   "outputs": [
    {
     "data": {
      "text/html": [
       "<div>\n",
       "<style scoped>\n",
       "    .dataframe tbody tr th:only-of-type {\n",
       "        vertical-align: middle;\n",
       "    }\n",
       "\n",
       "    .dataframe tbody tr th {\n",
       "        vertical-align: top;\n",
       "    }\n",
       "\n",
       "    .dataframe thead th {\n",
       "        text-align: right;\n",
       "    }\n",
       "</style>\n",
       "<table border=\"1\" class=\"dataframe\">\n",
       "  <thead>\n",
       "    <tr style=\"text-align: right;\">\n",
       "      <th></th>\n",
       "      <th>Product ID</th>\n",
       "      <th>Product Name</th>\n",
       "      <th>TotalQty</th>\n",
       "    </tr>\n",
       "  </thead>\n",
       "  <tbody>\n",
       "    <tr>\n",
       "      <th>0</th>\n",
       "      <td>TEC-AC-10003832</td>\n",
       "      <td>Logitech P710e Mobile Speakerphone</td>\n",
       "      <td>75</td>\n",
       "    </tr>\n",
       "    <tr>\n",
       "      <th>1</th>\n",
       "      <td>TEC-AC-10003832</td>\n",
       "      <td>Imation 16GB Mini TravelDrive USB 2.0 Flash Drive</td>\n",
       "      <td>75</td>\n",
       "    </tr>\n",
       "    <tr>\n",
       "      <th>2</th>\n",
       "      <td>OFF-PA-10001970</td>\n",
       "      <td>Xerox 1908</td>\n",
       "      <td>70</td>\n",
       "    </tr>\n",
       "    <tr>\n",
       "      <th>3</th>\n",
       "      <td>OFF-PA-10001970</td>\n",
       "      <td>Xerox 1881</td>\n",
       "      <td>70</td>\n",
       "    </tr>\n",
       "    <tr>\n",
       "      <th>4</th>\n",
       "      <td>OFF-BI-10001524</td>\n",
       "      <td>GBC Premium Transparent Covers with Diagonal L...</td>\n",
       "      <td>67</td>\n",
       "    </tr>\n",
       "  </tbody>\n",
       "</table>\n",
       "</div>"
      ],
      "text/plain": [
       "        Product ID                                       Product Name  \\\n",
       "0  TEC-AC-10003832                 Logitech P710e Mobile Speakerphone   \n",
       "1  TEC-AC-10003832  Imation 16GB Mini TravelDrive USB 2.0 Flash Drive   \n",
       "2  OFF-PA-10001970                                         Xerox 1908   \n",
       "3  OFF-PA-10001970                                         Xerox 1881   \n",
       "4  OFF-BI-10001524  GBC Premium Transparent Covers with Diagonal L...   \n",
       "\n",
       "   TotalQty  \n",
       "0        75  \n",
       "1        75  \n",
       "2        70  \n",
       "3        70  \n",
       "4        67  "
      ]
     },
     "execution_count": 31,
     "metadata": {},
     "output_type": "execute_result"
    }
   ],
   "source": [
    "top3 = top3[['Product ID', 'Product Name', 'TotalQty']]\n",
    "top3"
   ]
  },
  {
   "cell_type": "code",
   "execution_count": 32,
   "id": "015d231d",
   "metadata": {},
   "outputs": [],
   "source": [
    "import matplotlib.pyplot as plt"
   ]
  },
  {
   "cell_type": "code",
   "execution_count": 36,
   "id": "57ed9647",
   "metadata": {},
   "outputs": [
    {
     "data": {
      "text/plain": [
       "<BarContainer object of 5 artists>"
      ]
     },
     "execution_count": 36,
     "metadata": {},
     "output_type": "execute_result"
    },
    {
     "data": {
      "image/png": "[encoded data removed]",
      "text/plain": [
       "<Figure size 1440x432 with 1 Axes>"
      ]
     },
     "metadata": {
      "needs_background": "light"
     },
     "output_type": "display_data"
    }
   ],
   "source": [
    "plt.figure(figsize = (20,6))\n",
    "plt.title(\"Bar Plot\")\n",
    "plt.xlabel(\"Product Name\")\n",
    "plt.ylabel(\"TotalQty\")\n",
    "plt.bar( top3['Product Name'], top3.TotalQty, color='royalblue', alpha=0.7)"
   ]
  },
  {
   "cell_type": "code",
   "execution_count": 37,
   "id": "e3dced0f",
   "metadata": {},
   "outputs": [
    {
     "data": {
      "text/html": [
       "<div>\n",
       "<style scoped>\n",
       "    .dataframe tbody tr th:only-of-type {\n",
       "        vertical-align: middle;\n",
       "    }\n",
       "\n",
       "    .dataframe tbody tr th {\n",
       "        vertical-align: top;\n",
       "    }\n",
       "\n",
       "    .dataframe thead th {\n",
       "        text-align: right;\n",
       "    }\n",
       "</style>\n",
       "<table border=\"1\" class=\"dataframe\">\n",
       "  <thead>\n",
       "    <tr style=\"text-align: right;\">\n",
       "      <th></th>\n",
       "      <th>Order Date</th>\n",
       "      <th>City</th>\n",
       "      <th>Product ID</th>\n",
       "      <th>SalesQtyTotal</th>\n",
       "      <th>SalesAmtTotal</th>\n",
       "      <th>DisAmtTotal</th>\n",
       "      <th>ProfAmtTotal</th>\n",
       "      <th>CostAmt</th>\n",
       "      <th>Product Name</th>\n",
       "      <th>Sub-Category</th>\n",
       "      <th>Category</th>\n",
       "    </tr>\n",
       "  </thead>\n",
       "  <tbody>\n",
       "    <tr>\n",
       "      <th>0</th>\n",
       "      <td>2014-01-03</td>\n",
       "      <td>Houston</td>\n",
       "      <td>OFF-PA-10000174</td>\n",
       "      <td>2</td>\n",
       "      <td>16.448</td>\n",
       "      <td>0.2</td>\n",
       "      <td>5.5512</td>\n",
       "      <td>10.8968</td>\n",
       "      <td>Message Book, Wirebound, Four 5 1/2\" X 4\" Form...</td>\n",
       "      <td>Paper</td>\n",
       "      <td>Office Supplies</td>\n",
       "    </tr>\n",
       "    <tr>\n",
       "      <th>1</th>\n",
       "      <td>2014-02-24</td>\n",
       "      <td>Medford</td>\n",
       "      <td>OFF-PA-10000174</td>\n",
       "      <td>4</td>\n",
       "      <td>32.896</td>\n",
       "      <td>0.2</td>\n",
       "      <td>11.1024</td>\n",
       "      <td>21.7936</td>\n",
       "      <td>Message Book, Wirebound, Four 5 1/2\" X 4\" Form...</td>\n",
       "      <td>Paper</td>\n",
       "      <td>Office Supplies</td>\n",
       "    </tr>\n",
       "    <tr>\n",
       "      <th>2</th>\n",
       "      <td>2014-09-07</td>\n",
       "      <td>Santa Clara</td>\n",
       "      <td>OFF-PA-10000174</td>\n",
       "      <td>2</td>\n",
       "      <td>20.560</td>\n",
       "      <td>0.0</td>\n",
       "      <td>9.6632</td>\n",
       "      <td>10.8968</td>\n",
       "      <td>Message Book, Wirebound, Four 5 1/2\" X 4\" Form...</td>\n",
       "      <td>Paper</td>\n",
       "      <td>Office Supplies</td>\n",
       "    </tr>\n",
       "    <tr>\n",
       "      <th>3</th>\n",
       "      <td>2014-09-26</td>\n",
       "      <td>Lancaster</td>\n",
       "      <td>OFF-PA-10000174</td>\n",
       "      <td>4</td>\n",
       "      <td>32.896</td>\n",
       "      <td>0.2</td>\n",
       "      <td>11.1024</td>\n",
       "      <td>21.7936</td>\n",
       "      <td>Message Book, Wirebound, Four 5 1/2\" X 4\" Form...</td>\n",
       "      <td>Paper</td>\n",
       "      <td>Office Supplies</td>\n",
       "    </tr>\n",
       "    <tr>\n",
       "      <th>4</th>\n",
       "      <td>2015-12-03</td>\n",
       "      <td>Philadelphia</td>\n",
       "      <td>OFF-PA-10000174</td>\n",
       "      <td>2</td>\n",
       "      <td>16.448</td>\n",
       "      <td>0.2</td>\n",
       "      <td>5.5512</td>\n",
       "      <td>10.8968</td>\n",
       "      <td>Message Book, Wirebound, Four 5 1/2\" X 4\" Form...</td>\n",
       "      <td>Paper</td>\n",
       "      <td>Office Supplies</td>\n",
       "    </tr>\n",
       "  </tbody>\n",
       "</table>\n",
       "</div>"
      ],
      "text/plain": [
       "   Order Date          City       Product ID  SalesQtyTotal  SalesAmtTotal  \\\n",
       "0  2014-01-03       Houston  OFF-PA-10000174              2         16.448   \n",
       "1  2014-02-24       Medford  OFF-PA-10000174              4         32.896   \n",
       "2  2014-09-07   Santa Clara  OFF-PA-10000174              2         20.560   \n",
       "3  2014-09-26     Lancaster  OFF-PA-10000174              4         32.896   \n",
       "4  2015-12-03  Philadelphia  OFF-PA-10000174              2         16.448   \n",
       "\n",
       "   DisAmtTotal  ProfAmtTotal  CostAmt  \\\n",
       "0          0.2        5.5512  10.8968   \n",
       "1          0.2       11.1024  21.7936   \n",
       "2          0.0        9.6632  10.8968   \n",
       "3          0.2       11.1024  21.7936   \n",
       "4          0.2        5.5512  10.8968   \n",
       "\n",
       "                                        Product Name Sub-Category  \\\n",
       "0  Message Book, Wirebound, Four 5 1/2\" X 4\" Form...        Paper   \n",
       "1  Message Book, Wirebound, Four 5 1/2\" X 4\" Form...        Paper   \n",
       "2  Message Book, Wirebound, Four 5 1/2\" X 4\" Form...        Paper   \n",
       "3  Message Book, Wirebound, Four 5 1/2\" X 4\" Form...        Paper   \n",
       "4  Message Book, Wirebound, Four 5 1/2\" X 4\" Form...        Paper   \n",
       "\n",
       "          Category  \n",
       "0  Office Supplies  \n",
       "1  Office Supplies  \n",
       "2  Office Supplies  \n",
       "3  Office Supplies  \n",
       "4  Office Supplies  "
      ]
     },
     "execution_count": 37,
     "metadata": {},
     "output_type": "execute_result"
    }
   ],
   "source": [
    "ctg = pd.merge(SalesFct, DimPrd, on='Product ID')\n",
    "ctg.head(5)"
   ]
  },
  {
   "cell_type": "code",
   "execution_count": 38,
   "id": "fb48d30f",
   "metadata": {},
   "outputs": [],
   "source": [
    "ctg = ctg[['Category', 'SalesQtyTotal']]"
   ]
  },
  {
   "cell_type": "code",
   "execution_count": 39,
   "id": "fc347f08",
   "metadata": {},
   "outputs": [
    {
     "data": {
      "text/html": [
       "<div>\n",
       "<style scoped>\n",
       "    .dataframe tbody tr th:only-of-type {\n",
       "        vertical-align: middle;\n",
       "    }\n",
       "\n",
       "    .dataframe tbody tr th {\n",
       "        vertical-align: top;\n",
       "    }\n",
       "\n",
       "    .dataframe thead th {\n",
       "        text-align: right;\n",
       "    }\n",
       "</style>\n",
       "<table border=\"1\" class=\"dataframe\">\n",
       "  <thead>\n",
       "    <tr style=\"text-align: right;\">\n",
       "      <th></th>\n",
       "      <th>Category</th>\n",
       "      <th>TotalQty</th>\n",
       "    </tr>\n",
       "  </thead>\n",
       "  <tbody>\n",
       "    <tr>\n",
       "      <th>0</th>\n",
       "      <td>Furniture</td>\n",
       "      <td>8379</td>\n",
       "    </tr>\n",
       "    <tr>\n",
       "      <th>1</th>\n",
       "      <td>Office Supplies</td>\n",
       "      <td>23518</td>\n",
       "    </tr>\n",
       "    <tr>\n",
       "      <th>2</th>\n",
       "      <td>Technology</td>\n",
       "      <td>7249</td>\n",
       "    </tr>\n",
       "  </tbody>\n",
       "</table>\n",
       "</div>"
      ],
      "text/plain": [
       "          Category  TotalQty\n",
       "0        Furniture      8379\n",
       "1  Office Supplies     23518\n",
       "2       Technology      7249"
      ]
     },
     "execution_count": 39,
     "metadata": {},
     "output_type": "execute_result"
    }
   ],
   "source": [
    "ctg = ctg.groupby(['Category']).agg(TotalQty = ('SalesQtyTotal', 'sum')).reset_index()\n",
    "ctg"
   ]
  },
  {
   "cell_type": "code",
   "execution_count": 40,
   "id": "6e32b4c1",
   "metadata": {},
   "outputs": [
    {
     "data": {
      "text/html": [
       "<div>\n",
       "<style scoped>\n",
       "    .dataframe tbody tr th:only-of-type {\n",
       "        vertical-align: middle;\n",
       "    }\n",
       "\n",
       "    .dataframe tbody tr th {\n",
       "        vertical-align: top;\n",
       "    }\n",
       "\n",
       "    .dataframe thead th {\n",
       "        text-align: right;\n",
       "    }\n",
       "</style>\n",
       "<table border=\"1\" class=\"dataframe\">\n",
       "  <thead>\n",
       "    <tr style=\"text-align: right;\">\n",
       "      <th></th>\n",
       "      <th>Category</th>\n",
       "      <th>TotalQty</th>\n",
       "    </tr>\n",
       "  </thead>\n",
       "  <tbody>\n",
       "    <tr>\n",
       "      <th>1</th>\n",
       "      <td>Office Supplies</td>\n",
       "      <td>23518</td>\n",
       "    </tr>\n",
       "    <tr>\n",
       "      <th>0</th>\n",
       "      <td>Furniture</td>\n",
       "      <td>8379</td>\n",
       "    </tr>\n",
       "    <tr>\n",
       "      <th>2</th>\n",
       "      <td>Technology</td>\n",
       "      <td>7249</td>\n",
       "    </tr>\n",
       "  </tbody>\n",
       "</table>\n",
       "</div>"
      ],
      "text/plain": [
       "          Category  TotalQty\n",
       "1  Office Supplies     23518\n",
       "0        Furniture      8379\n",
       "2       Technology      7249"
      ]
     },
     "execution_count": 40,
     "metadata": {},
     "output_type": "execute_result"
    }
   ],
   "source": [
    "ctg.sort_values(by = 'TotalQty', ascending=False)"
   ]
  },
  {
   "cell_type": "code",
   "execution_count": 41,
   "id": "161dacd4",
   "metadata": {},
   "outputs": [
    {
     "data": {
      "text/plain": [
       "<BarContainer object of 3 artists>"
      ]
     },
     "execution_count": 41,
     "metadata": {},
     "output_type": "execute_result"
    },
    {
     "data": {
      "image/png": "[encoded data removed]",
      "text/plain": [
       "<Figure size 1440x432 with 1 Axes>"
      ]
     },
     "metadata": {
      "needs_background": "light"
     },
     "output_type": "display_data"
    }
   ],
   "source": [
    "plt.figure(figsize = (20,6))\n",
    "plt.title(\"Bar Plot\")\n",
    "plt.xlabel(\"Category\")\n",
    "plt.ylabel(\"TotalQty\")\n",
    "plt.bar( ctg['Category'], ctg.TotalQty, color='royalblue', alpha=0.7)"
   ]
  },
  {
   "cell_type": "code",
   "execution_count": 58,
   "id": "95c216ce",
   "metadata": {},
   "outputs": [
    {
     "data": {
      "text/html": [
       "<div>\n",
       "<style scoped>\n",
       "    .dataframe tbody tr th:only-of-type {\n",
       "        vertical-align: middle;\n",
       "    }\n",
       "\n",
       "    .dataframe tbody tr th {\n",
       "        vertical-align: top;\n",
       "    }\n",
       "\n",
       "    .dataframe thead th {\n",
       "        text-align: right;\n",
       "    }\n",
       "</style>\n",
       "<table border=\"1\" class=\"dataframe\">\n",
       "  <thead>\n",
       "    <tr style=\"text-align: right;\">\n",
       "      <th></th>\n",
       "      <th>Order Date</th>\n",
       "      <th>City</th>\n",
       "      <th>Product ID</th>\n",
       "      <th>SalesQtyTotal</th>\n",
       "      <th>SalesAmtTotal</th>\n",
       "      <th>DisAmtTotal</th>\n",
       "      <th>ProfAmtTotal</th>\n",
       "      <th>CostAmt</th>\n",
       "      <th>Day</th>\n",
       "      <th>Week</th>\n",
       "      <th>Month</th>\n",
       "      <th>Quarter</th>\n",
       "      <th>Year</th>\n",
       "    </tr>\n",
       "  </thead>\n",
       "  <tbody>\n",
       "    <tr>\n",
       "      <th>0</th>\n",
       "      <td>2014-01-03</td>\n",
       "      <td>Houston</td>\n",
       "      <td>OFF-PA-10000174</td>\n",
       "      <td>2</td>\n",
       "      <td>16.448</td>\n",
       "      <td>0.2</td>\n",
       "      <td>5.5512</td>\n",
       "      <td>10.8968</td>\n",
       "      <td>3</td>\n",
       "      <td>1</td>\n",
       "      <td>1</td>\n",
       "      <td>1</td>\n",
       "      <td>2014</td>\n",
       "    </tr>\n",
       "    <tr>\n",
       "      <th>1</th>\n",
       "      <td>2014-01-04</td>\n",
       "      <td>Naperville</td>\n",
       "      <td>OFF-BI-10004094</td>\n",
       "      <td>2</td>\n",
       "      <td>3.540</td>\n",
       "      <td>0.8</td>\n",
       "      <td>-5.4870</td>\n",
       "      <td>9.0270</td>\n",
       "      <td>4</td>\n",
       "      <td>1</td>\n",
       "      <td>1</td>\n",
       "      <td>1</td>\n",
       "      <td>2014</td>\n",
       "    </tr>\n",
       "    <tr>\n",
       "      <th>2</th>\n",
       "      <td>2014-01-04</td>\n",
       "      <td>Naperville</td>\n",
       "      <td>OFF-LA-10003223</td>\n",
       "      <td>3</td>\n",
       "      <td>11.784</td>\n",
       "      <td>0.2</td>\n",
       "      <td>4.2717</td>\n",
       "      <td>7.5123</td>\n",
       "      <td>4</td>\n",
       "      <td>1</td>\n",
       "      <td>1</td>\n",
       "      <td>1</td>\n",
       "      <td>2014</td>\n",
       "    </tr>\n",
       "    <tr>\n",
       "      <th>3</th>\n",
       "      <td>2014-01-04</td>\n",
       "      <td>Naperville</td>\n",
       "      <td>OFF-ST-10002743</td>\n",
       "      <td>3</td>\n",
       "      <td>272.736</td>\n",
       "      <td>0.2</td>\n",
       "      <td>-64.7748</td>\n",
       "      <td>337.5108</td>\n",
       "      <td>4</td>\n",
       "      <td>1</td>\n",
       "      <td>1</td>\n",
       "      <td>1</td>\n",
       "      <td>2014</td>\n",
       "    </tr>\n",
       "    <tr>\n",
       "      <th>4</th>\n",
       "      <td>2014-01-05</td>\n",
       "      <td>Philadelphia</td>\n",
       "      <td>OFF-AR-10003478</td>\n",
       "      <td>3</td>\n",
       "      <td>19.536</td>\n",
       "      <td>0.2</td>\n",
       "      <td>4.8840</td>\n",
       "      <td>14.6520</td>\n",
       "      <td>5</td>\n",
       "      <td>1</td>\n",
       "      <td>1</td>\n",
       "      <td>1</td>\n",
       "      <td>2014</td>\n",
       "    </tr>\n",
       "  </tbody>\n",
       "</table>\n",
       "</div>"
      ],
      "text/plain": [
       "   Order Date          City       Product ID  SalesQtyTotal  SalesAmtTotal  \\\n",
       "0  2014-01-03       Houston  OFF-PA-10000174              2         16.448   \n",
       "1  2014-01-04    Naperville  OFF-BI-10004094              2          3.540   \n",
       "2  2014-01-04    Naperville  OFF-LA-10003223              3         11.784   \n",
       "3  2014-01-04    Naperville  OFF-ST-10002743              3        272.736   \n",
       "4  2014-01-05  Philadelphia  OFF-AR-10003478              3         19.536   \n",
       "\n",
       "   DisAmtTotal  ProfAmtTotal   CostAmt  Day  Week  Month  Quarter  Year  \n",
       "0          0.2        5.5512   10.8968    3     1      1        1  2014  \n",
       "1          0.8       -5.4870    9.0270    4     1      1        1  2014  \n",
       "2          0.2        4.2717    7.5123    4     1      1        1  2014  \n",
       "3          0.2      -64.7748  337.5108    4     1      1        1  2014  \n",
       "4          0.2        4.8840   14.6520    5     1      1        1  2014  "
      ]
     },
     "execution_count": 58,
     "metadata": {},
     "output_type": "execute_result"
    }
   ],
   "source": [
    "qrtr = pd.merge(SalesFct, DimDt, on='Order Date')\n",
    "qrtr.head(5)"
   ]
  },
  {
   "cell_type": "code",
   "execution_count": 59,
   "id": "23bb03f6",
   "metadata": {},
   "outputs": [
    {
     "data": {
      "text/html": [
       "<div>\n",
       "<style scoped>\n",
       "    .dataframe tbody tr th:only-of-type {\n",
       "        vertical-align: middle;\n",
       "    }\n",
       "\n",
       "    .dataframe tbody tr th {\n",
       "        vertical-align: top;\n",
       "    }\n",
       "\n",
       "    .dataframe thead th {\n",
       "        text-align: right;\n",
       "    }\n",
       "</style>\n",
       "<table border=\"1\" class=\"dataframe\">\n",
       "  <thead>\n",
       "    <tr style=\"text-align: right;\">\n",
       "      <th></th>\n",
       "      <th>Order Date</th>\n",
       "      <th>City</th>\n",
       "      <th>Product ID</th>\n",
       "      <th>SalesQtyTotal</th>\n",
       "      <th>SalesAmtTotal</th>\n",
       "      <th>DisAmtTotal</th>\n",
       "      <th>ProfAmtTotal</th>\n",
       "      <th>CostAmt</th>\n",
       "      <th>Day</th>\n",
       "      <th>Week</th>\n",
       "      <th>Month</th>\n",
       "      <th>Quarter</th>\n",
       "      <th>Year</th>\n",
       "      <th>Product Name</th>\n",
       "      <th>Sub-Category</th>\n",
       "      <th>Category</th>\n",
       "    </tr>\n",
       "  </thead>\n",
       "  <tbody>\n",
       "    <tr>\n",
       "      <th>0</th>\n",
       "      <td>2014-01-03</td>\n",
       "      <td>Houston</td>\n",
       "      <td>OFF-PA-10000174</td>\n",
       "      <td>2</td>\n",
       "      <td>16.448</td>\n",
       "      <td>0.2</td>\n",
       "      <td>5.5512</td>\n",
       "      <td>10.8968</td>\n",
       "      <td>3</td>\n",
       "      <td>1</td>\n",
       "      <td>1</td>\n",
       "      <td>1</td>\n",
       "      <td>2014</td>\n",
       "      <td>Message Book, Wirebound, Four 5 1/2\" X 4\" Form...</td>\n",
       "      <td>Paper</td>\n",
       "      <td>Office Supplies</td>\n",
       "    </tr>\n",
       "    <tr>\n",
       "      <th>1</th>\n",
       "      <td>2014-02-24</td>\n",
       "      <td>Medford</td>\n",
       "      <td>OFF-PA-10000174</td>\n",
       "      <td>4</td>\n",
       "      <td>32.896</td>\n",
       "      <td>0.2</td>\n",
       "      <td>11.1024</td>\n",
       "      <td>21.7936</td>\n",
       "      <td>24</td>\n",
       "      <td>9</td>\n",
       "      <td>2</td>\n",
       "      <td>1</td>\n",
       "      <td>2014</td>\n",
       "      <td>Message Book, Wirebound, Four 5 1/2\" X 4\" Form...</td>\n",
       "      <td>Paper</td>\n",
       "      <td>Office Supplies</td>\n",
       "    </tr>\n",
       "    <tr>\n",
       "      <th>2</th>\n",
       "      <td>2014-09-07</td>\n",
       "      <td>Santa Clara</td>\n",
       "      <td>OFF-PA-10000174</td>\n",
       "      <td>2</td>\n",
       "      <td>20.560</td>\n",
       "      <td>0.0</td>\n",
       "      <td>9.6632</td>\n",
       "      <td>10.8968</td>\n",
       "      <td>7</td>\n",
       "      <td>36</td>\n",
       "      <td>9</td>\n",
       "      <td>3</td>\n",
       "      <td>2014</td>\n",
       "      <td>Message Book, Wirebound, Four 5 1/2\" X 4\" Form...</td>\n",
       "      <td>Paper</td>\n",
       "      <td>Office Supplies</td>\n",
       "    </tr>\n",
       "    <tr>\n",
       "      <th>3</th>\n",
       "      <td>2014-09-26</td>\n",
       "      <td>Lancaster</td>\n",
       "      <td>OFF-PA-10000174</td>\n",
       "      <td>4</td>\n",
       "      <td>32.896</td>\n",
       "      <td>0.2</td>\n",
       "      <td>11.1024</td>\n",
       "      <td>21.7936</td>\n",
       "      <td>26</td>\n",
       "      <td>39</td>\n",
       "      <td>9</td>\n",
       "      <td>3</td>\n",
       "      <td>2014</td>\n",
       "      <td>Message Book, Wirebound, Four 5 1/2\" X 4\" Form...</td>\n",
       "      <td>Paper</td>\n",
       "      <td>Office Supplies</td>\n",
       "    </tr>\n",
       "    <tr>\n",
       "      <th>4</th>\n",
       "      <td>2015-12-03</td>\n",
       "      <td>Philadelphia</td>\n",
       "      <td>OFF-PA-10000174</td>\n",
       "      <td>2</td>\n",
       "      <td>16.448</td>\n",
       "      <td>0.2</td>\n",
       "      <td>5.5512</td>\n",
       "      <td>10.8968</td>\n",
       "      <td>3</td>\n",
       "      <td>49</td>\n",
       "      <td>12</td>\n",
       "      <td>4</td>\n",
       "      <td>2015</td>\n",
       "      <td>Message Book, Wirebound, Four 5 1/2\" X 4\" Form...</td>\n",
       "      <td>Paper</td>\n",
       "      <td>Office Supplies</td>\n",
       "    </tr>\n",
       "  </tbody>\n",
       "</table>\n",
       "</div>"
      ],
      "text/plain": [
       "   Order Date          City       Product ID  SalesQtyTotal  SalesAmtTotal  \\\n",
       "0  2014-01-03       Houston  OFF-PA-10000174              2         16.448   \n",
       "1  2014-02-24       Medford  OFF-PA-10000174              4         32.896   \n",
       "2  2014-09-07   Santa Clara  OFF-PA-10000174              2         20.560   \n",
       "3  2014-09-26     Lancaster  OFF-PA-10000174              4         32.896   \n",
       "4  2015-12-03  Philadelphia  OFF-PA-10000174              2         16.448   \n",
       "\n",
       "   DisAmtTotal  ProfAmtTotal  CostAmt  Day  Week  Month  Quarter  Year  \\\n",
       "0          0.2        5.5512  10.8968    3     1      1        1  2014   \n",
       "1          0.2       11.1024  21.7936   24     9      2        1  2014   \n",
       "2          0.0        9.6632  10.8968    7    36      9        3  2014   \n",
       "3          0.2       11.1024  21.7936   26    39      9        3  2014   \n",
       "4          0.2        5.5512  10.8968    3    49     12        4  2015   \n",
       "\n",
       "                                        Product Name Sub-Category  \\\n",
       "0  Message Book, Wirebound, Four 5 1/2\" X 4\" Form...        Paper   \n",
       "1  Message Book, Wirebound, Four 5 1/2\" X 4\" Form...        Paper   \n",
       "2  Message Book, Wirebound, Four 5 1/2\" X 4\" Form...        Paper   \n",
       "3  Message Book, Wirebound, Four 5 1/2\" X 4\" Form...        Paper   \n",
       "4  Message Book, Wirebound, Four 5 1/2\" X 4\" Form...        Paper   \n",
       "\n",
       "          Category  \n",
       "0  Office Supplies  \n",
       "1  Office Supplies  \n",
       "2  Office Supplies  \n",
       "3  Office Supplies  \n",
       "4  Office Supplies  "
      ]
     },
     "execution_count": 59,
     "metadata": {},
     "output_type": "execute_result"
    }
   ],
   "source": [
    "qrtr = pd.merge(qrtr, DimPrd, on='Product ID')\n",
    "qrtr.head(5)"
   ]
  },
  {
   "cell_type": "code",
   "execution_count": 60,
   "id": "d8015646",
   "metadata": {},
   "outputs": [],
   "source": [
    "qrtr = qrtr[['Product ID','Product Name','SalesQtyTotal', 'Quarter']]"
   ]
  },
  {
   "cell_type": "code",
   "execution_count": 61,
   "id": "9b2eb5bb",
   "metadata": {},
   "outputs": [],
   "source": [
    "qrtr = qrtr[qrtr.Quarter==3]"
   ]
  },
  {
   "cell_type": "code",
   "execution_count": 62,
   "id": "b24e1a15",
   "metadata": {},
   "outputs": [
    {
     "data": {
      "text/html": [
       "<div>\n",
       "<style scoped>\n",
       "    .dataframe tbody tr th:only-of-type {\n",
       "        vertical-align: middle;\n",
       "    }\n",
       "\n",
       "    .dataframe tbody tr th {\n",
       "        vertical-align: top;\n",
       "    }\n",
       "\n",
       "    .dataframe thead th {\n",
       "        text-align: right;\n",
       "    }\n",
       "</style>\n",
       "<table border=\"1\" class=\"dataframe\">\n",
       "  <thead>\n",
       "    <tr style=\"text-align: right;\">\n",
       "      <th></th>\n",
       "      <th>Product ID</th>\n",
       "      <th>Product Name</th>\n",
       "      <th>SalesQtyTotal</th>\n",
       "      <th>Quarter</th>\n",
       "    </tr>\n",
       "  </thead>\n",
       "  <tbody>\n",
       "    <tr>\n",
       "      <th>2</th>\n",
       "      <td>OFF-PA-10000174</td>\n",
       "      <td>Message Book, Wirebound, Four 5 1/2\" X 4\" Form...</td>\n",
       "      <td>2</td>\n",
       "      <td>3</td>\n",
       "    </tr>\n",
       "    <tr>\n",
       "      <th>3</th>\n",
       "      <td>OFF-PA-10000174</td>\n",
       "      <td>Message Book, Wirebound, Four 5 1/2\" X 4\" Form...</td>\n",
       "      <td>4</td>\n",
       "      <td>3</td>\n",
       "    </tr>\n",
       "    <tr>\n",
       "      <th>5</th>\n",
       "      <td>OFF-PA-10000174</td>\n",
       "      <td>Message Book, Wirebound, Four 5 1/2\" X 4\" Form...</td>\n",
       "      <td>4</td>\n",
       "      <td>3</td>\n",
       "    </tr>\n",
       "    <tr>\n",
       "      <th>8</th>\n",
       "      <td>OFF-BI-10004094</td>\n",
       "      <td>GBC Standard Plastic Binding Systems Combs</td>\n",
       "      <td>2</td>\n",
       "      <td>3</td>\n",
       "    </tr>\n",
       "    <tr>\n",
       "      <th>9</th>\n",
       "      <td>OFF-BI-10004094</td>\n",
       "      <td>GBC Standard Plastic Binding Systems Combs</td>\n",
       "      <td>3</td>\n",
       "      <td>3</td>\n",
       "    </tr>\n",
       "  </tbody>\n",
       "</table>\n",
       "</div>"
      ],
      "text/plain": [
       "        Product ID                                       Product Name  \\\n",
       "2  OFF-PA-10000174  Message Book, Wirebound, Four 5 1/2\" X 4\" Form...   \n",
       "3  OFF-PA-10000174  Message Book, Wirebound, Four 5 1/2\" X 4\" Form...   \n",
       "5  OFF-PA-10000174  Message Book, Wirebound, Four 5 1/2\" X 4\" Form...   \n",
       "8  OFF-BI-10004094         GBC Standard Plastic Binding Systems Combs   \n",
       "9  OFF-BI-10004094         GBC Standard Plastic Binding Systems Combs   \n",
       "\n",
       "   SalesQtyTotal  Quarter  \n",
       "2              2        3  \n",
       "3              4        3  \n",
       "5              4        3  \n",
       "8              2        3  \n",
       "9              3        3  "
      ]
     },
     "execution_count": 62,
     "metadata": {},
     "output_type": "execute_result"
    }
   ],
   "source": [
    "qrtr.head(5)"
   ]
  },
  {
   "cell_type": "code",
   "execution_count": 63,
   "id": "9c0cf3e4",
   "metadata": {},
   "outputs": [
    {
     "data": {
      "text/html": [
       "<div>\n",
       "<style scoped>\n",
       "    .dataframe tbody tr th:only-of-type {\n",
       "        vertical-align: middle;\n",
       "    }\n",
       "\n",
       "    .dataframe tbody tr th {\n",
       "        vertical-align: top;\n",
       "    }\n",
       "\n",
       "    .dataframe thead th {\n",
       "        text-align: right;\n",
       "    }\n",
       "</style>\n",
       "<table border=\"1\" class=\"dataframe\">\n",
       "  <thead>\n",
       "    <tr style=\"text-align: right;\">\n",
       "      <th></th>\n",
       "      <th>Product ID</th>\n",
       "      <th>Product Name</th>\n",
       "      <th>SalesQtyTotal</th>\n",
       "      <th>Quarter</th>\n",
       "    </tr>\n",
       "  </thead>\n",
       "  <tbody>\n",
       "    <tr>\n",
       "      <th>10302</th>\n",
       "      <td>OFF-PA-10002001</td>\n",
       "      <td>Xerox 1984</td>\n",
       "      <td>2</td>\n",
       "      <td>3</td>\n",
       "    </tr>\n",
       "    <tr>\n",
       "      <th>10303</th>\n",
       "      <td>OFF-PA-10000673</td>\n",
       "      <td>Post-it “Important Message” Note Pad, Neon Col...</td>\n",
       "      <td>7</td>\n",
       "      <td>3</td>\n",
       "    </tr>\n",
       "    <tr>\n",
       "      <th>10305</th>\n",
       "      <td>OFF-AR-10003896</td>\n",
       "      <td>Stride Job 150 Highlighters, Chisel Tip, Assor...</td>\n",
       "      <td>3</td>\n",
       "      <td>3</td>\n",
       "    </tr>\n",
       "    <tr>\n",
       "      <th>10306</th>\n",
       "      <td>TEC-MA-10001031</td>\n",
       "      <td>Socket Bluetooth Cordless Hand Scanner (CHS)</td>\n",
       "      <td>3</td>\n",
       "      <td>3</td>\n",
       "    </tr>\n",
       "    <tr>\n",
       "      <th>10307</th>\n",
       "      <td>TEC-MA-10003066</td>\n",
       "      <td>Wasp CCD Handheld Bar Code Reader</td>\n",
       "      <td>3</td>\n",
       "      <td>3</td>\n",
       "    </tr>\n",
       "  </tbody>\n",
       "</table>\n",
       "</div>"
      ],
      "text/plain": [
       "            Product ID                                       Product Name  \\\n",
       "10302  OFF-PA-10002001                                         Xerox 1984   \n",
       "10303  OFF-PA-10000673  Post-it “Important Message” Note Pad, Neon Col...   \n",
       "10305  OFF-AR-10003896  Stride Job 150 Highlighters, Chisel Tip, Assor...   \n",
       "10306  TEC-MA-10001031       Socket Bluetooth Cordless Hand Scanner (CHS)   \n",
       "10307  TEC-MA-10003066                  Wasp CCD Handheld Bar Code Reader   \n",
       "\n",
       "       SalesQtyTotal  Quarter  \n",
       "10302              2        3  \n",
       "10303              7        3  \n",
       "10305              3        3  \n",
       "10306              3        3  \n",
       "10307              3        3  "
      ]
     },
     "execution_count": 63,
     "metadata": {},
     "output_type": "execute_result"
    }
   ],
   "source": [
    "qrtr.tail(5)"
   ]
  },
  {
   "cell_type": "code",
   "execution_count": 64,
   "id": "33be67f0",
   "metadata": {},
   "outputs": [
    {
     "data": {
      "text/html": [
       "<div>\n",
       "<style scoped>\n",
       "    .dataframe tbody tr th:only-of-type {\n",
       "        vertical-align: middle;\n",
       "    }\n",
       "\n",
       "    .dataframe tbody tr th {\n",
       "        vertical-align: top;\n",
       "    }\n",
       "\n",
       "    .dataframe thead th {\n",
       "        text-align: right;\n",
       "    }\n",
       "</style>\n",
       "<table border=\"1\" class=\"dataframe\">\n",
       "  <thead>\n",
       "    <tr style=\"text-align: right;\">\n",
       "      <th></th>\n",
       "      <th>Product ID</th>\n",
       "      <th>Product Name</th>\n",
       "      <th>TotalQty</th>\n",
       "    </tr>\n",
       "  </thead>\n",
       "  <tbody>\n",
       "    <tr>\n",
       "      <th>0</th>\n",
       "      <td>FUR-BO-10000112</td>\n",
       "      <td>Bush Birmingham Collection Bookcase, Dark Cherry</td>\n",
       "      <td>9</td>\n",
       "    </tr>\n",
       "    <tr>\n",
       "      <th>1</th>\n",
       "      <td>FUR-BO-10000330</td>\n",
       "      <td>Sauder Camden County Barrister Bookcase, Plank...</td>\n",
       "      <td>4</td>\n",
       "    </tr>\n",
       "    <tr>\n",
       "      <th>2</th>\n",
       "      <td>FUR-BO-10000468</td>\n",
       "      <td>O'Sullivan 2-Shelf Heavy-Duty Bookcases</td>\n",
       "      <td>11</td>\n",
       "    </tr>\n",
       "    <tr>\n",
       "      <th>3</th>\n",
       "      <td>FUR-BO-10000711</td>\n",
       "      <td>Hon Metal Bookcases, Gray</td>\n",
       "      <td>9</td>\n",
       "    </tr>\n",
       "    <tr>\n",
       "      <th>4</th>\n",
       "      <td>FUR-BO-10000780</td>\n",
       "      <td>O'Sullivan Plantations 2-Door Library in Landv...</td>\n",
       "      <td>10</td>\n",
       "    </tr>\n",
       "    <tr>\n",
       "      <th>...</th>\n",
       "      <td>...</td>\n",
       "      <td>...</td>\n",
       "      <td>...</td>\n",
       "    </tr>\n",
       "    <tr>\n",
       "      <th>1432</th>\n",
       "      <td>TEC-PH-10004908</td>\n",
       "      <td>Panasonic KX TS3282W Corded phone</td>\n",
       "      <td>5</td>\n",
       "    </tr>\n",
       "    <tr>\n",
       "      <th>1433</th>\n",
       "      <td>TEC-PH-10004912</td>\n",
       "      <td>Cisco SPA112 2 Port Phone Adapter</td>\n",
       "      <td>3</td>\n",
       "    </tr>\n",
       "    <tr>\n",
       "      <th>1434</th>\n",
       "      <td>TEC-PH-10004924</td>\n",
       "      <td>SKILCRAFT Telephone Shoulder Rest, 2\" x 6.5\" x...</td>\n",
       "      <td>2</td>\n",
       "    </tr>\n",
       "    <tr>\n",
       "      <th>1435</th>\n",
       "      <td>TEC-PH-10004959</td>\n",
       "      <td>Classic Ivory Antique Telephone ZL1810</td>\n",
       "      <td>1</td>\n",
       "    </tr>\n",
       "    <tr>\n",
       "      <th>1436</th>\n",
       "      <td>TEC-PH-10004977</td>\n",
       "      <td>GE 30524EE4</td>\n",
       "      <td>5</td>\n",
       "    </tr>\n",
       "  </tbody>\n",
       "</table>\n",
       "<p>1437 rows × 3 columns</p>\n",
       "</div>"
      ],
      "text/plain": [
       "           Product ID                                       Product Name  \\\n",
       "0     FUR-BO-10000112   Bush Birmingham Collection Bookcase, Dark Cherry   \n",
       "1     FUR-BO-10000330  Sauder Camden County Barrister Bookcase, Plank...   \n",
       "2     FUR-BO-10000468            O'Sullivan 2-Shelf Heavy-Duty Bookcases   \n",
       "3     FUR-BO-10000711                          Hon Metal Bookcases, Gray   \n",
       "4     FUR-BO-10000780  O'Sullivan Plantations 2-Door Library in Landv...   \n",
       "...               ...                                                ...   \n",
       "1432  TEC-PH-10004908                  Panasonic KX TS3282W Corded phone   \n",
       "1433  TEC-PH-10004912                  Cisco SPA112 2 Port Phone Adapter   \n",
       "1434  TEC-PH-10004924  SKILCRAFT Telephone Shoulder Rest, 2\" x 6.5\" x...   \n",
       "1435  TEC-PH-10004959             Classic Ivory Antique Telephone ZL1810   \n",
       "1436  TEC-PH-10004977                                        GE 30524EE4   \n",
       "\n",
       "      TotalQty  \n",
       "0            9  \n",
       "1            4  \n",
       "2           11  \n",
       "3            9  \n",
       "4           10  \n",
       "...        ...  \n",
       "1432         5  \n",
       "1433         3  \n",
       "1434         2  \n",
       "1435         1  \n",
       "1436         5  \n",
       "\n",
       "[1437 rows x 3 columns]"
      ]
     },
     "execution_count": 64,
     "metadata": {},
     "output_type": "execute_result"
    }
   ],
   "source": [
    "qrtr = qrtr.groupby(['Product ID','Product Name']).agg(TotalQty = ('SalesQtyTotal', 'sum')).reset_index()\n",
    "qrtr"
   ]
  },
  {
   "cell_type": "code",
   "execution_count": 65,
   "id": "d94761fc",
   "metadata": {
    "scrolled": false
   },
   "outputs": [
    {
     "data": {
      "text/html": [
       "<div>\n",
       "<style scoped>\n",
       "    .dataframe tbody tr th:only-of-type {\n",
       "        vertical-align: middle;\n",
       "    }\n",
       "\n",
       "    .dataframe tbody tr th {\n",
       "        vertical-align: top;\n",
       "    }\n",
       "\n",
       "    .dataframe thead th {\n",
       "        text-align: right;\n",
       "    }\n",
       "</style>\n",
       "<table border=\"1\" class=\"dataframe\">\n",
       "  <thead>\n",
       "    <tr style=\"text-align: right;\">\n",
       "      <th></th>\n",
       "      <th>Product ID</th>\n",
       "      <th>Product Name</th>\n",
       "      <th>TotalQty</th>\n",
       "    </tr>\n",
       "  </thead>\n",
       "  <tbody>\n",
       "    <tr>\n",
       "      <th>551</th>\n",
       "      <td>OFF-BI-10002012</td>\n",
       "      <td>Wilson Jones Easy Flow II Sheet Lifters</td>\n",
       "      <td>32</td>\n",
       "    </tr>\n",
       "    <tr>\n",
       "      <th>763</th>\n",
       "      <td>OFF-LA-10002762</td>\n",
       "      <td>Avery 485</td>\n",
       "      <td>32</td>\n",
       "    </tr>\n",
       "    <tr>\n",
       "      <th>972</th>\n",
       "      <td>OFF-PA-10004100</td>\n",
       "      <td>Xerox 216</td>\n",
       "      <td>32</td>\n",
       "    </tr>\n",
       "  </tbody>\n",
       "</table>\n",
       "</div>"
      ],
      "text/plain": [
       "          Product ID                             Product Name  TotalQty\n",
       "551  OFF-BI-10002012  Wilson Jones Easy Flow II Sheet Lifters        32\n",
       "763  OFF-LA-10002762                                Avery 485        32\n",
       "972  OFF-PA-10004100                                Xerox 216        32"
      ]
     },
     "execution_count": 65,
     "metadata": {},
     "output_type": "execute_result"
    }
   ],
   "source": [
    "qrtr = qrtr.nlargest(3, ['TotalQty'])\n",
    "qrtr"
   ]
  },
  {
   "cell_type": "code",
   "execution_count": 66,
   "id": "d5ebbe5e",
   "metadata": {},
   "outputs": [
    {
     "data": {
      "text/plain": [
       "<BarContainer object of 3 artists>"
      ]
     },
     "execution_count": 66,
     "metadata": {},
     "output_type": "execute_result"
    },
    {
     "data": {
      "image/png": "[encoded data removed]",
      "text/plain": [
       "<Figure size 720x288 with 1 Axes>"
      ]
     },
     "metadata": {
      "needs_background": "light"
     },
     "output_type": "display_data"
    }
   ],
   "source": [
    "plt.figure(figsize = (10,4))\n",
    "plt.title(\"Bar Plot\")\n",
    "plt.xlabel(\"PrName\")\n",
    "plt.ylabel(\"TotalQty\")\n",
    "plt.bar( qrtr['Product Name'], qrtr.TotalQty, color='royalblue', alpha=0.7)"
   ]
  }
 ],
 "metadata": {
  "kernelspec": {
   "display_name": "Python 3 (ipykernel)",
   "language": "python",
   "name": "python3"
  },
  "language_info": {
   "codemirror_mode": {
    "name": "ipython",
    "version": 3
   },
   "file_extension": ".py",
   "mimetype": "text/x-python",
   "name": "python",
   "nbconvert_exporter": "python",
   "pygments_lexer": "ipython3",
   "version": "3.9.7"
  }
 },
 "nbformat": 4,
 "nbformat_minor": 5
}
